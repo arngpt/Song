{
  "cells": [
    {
      "cell_type": "code",
      "execution_count": null,
      "id": "cc0a5980",
      "metadata": {
        "id": "cc0a5980",
        "outputId": "4ece2218-5fc8-4306-dade-37eb7541fb07",
        "colab": {
          "base_uri": "https://localhost:8080/"
        }
      },
      "outputs": [
        {
          "output_type": "stream",
          "name": "stdout",
          "text": [
            "Collecting pydub\n",
            "  Downloading pydub-0.25.1-py2.py3-none-any.whl (32 kB)\n",
            "Installing collected packages: pydub\n",
            "Successfully installed pydub-0.25.1\n"
          ]
        }
      ],
      "source": [
        "pip install pydub"
      ]
    },
    {
      "cell_type": "code",
      "execution_count": null,
      "id": "8128aebd",
      "metadata": {
        "id": "8128aebd"
      },
      "outputs": [],
      "source": [
        "from IPython.display import Audio,display"
      ]
    },
    {
      "cell_type": "code",
      "execution_count": null,
      "id": "acc45a79",
      "metadata": {
        "id": "acc45a79"
      },
      "outputs": [],
      "source": [
        "from pydub import AudioSegment\n",
        "\n",
        "sound1 = AudioSegment.from_file(\"/content/accompaniment.wav\")\n",
        "sound2 = AudioSegment.from_file('/content/vocals.wav')\n",
        "\n"
      ]
    },
    {
      "cell_type": "code",
      "execution_count": null,
      "id": "51c20596",
      "metadata": {
        "colab": {
          "base_uri": "https://localhost:8080/"
        },
        "id": "51c20596",
        "outputId": "40de8cc1-4f93-48ae-9cd5-ab44f84f370f"
      },
      "outputs": [
        {
          "output_type": "execute_result",
          "data": {
            "text/plain": [
              "<_io.BufferedRandom name='combined.wav'>"
            ]
          },
          "metadata": {},
          "execution_count": 4
        }
      ],
      "source": [
        "combined = sound1.overlay(sound2)\n",
        "\n",
        "combined.export(\"combined.wav\", format='wav')"
      ]
    },
    {
      "cell_type": "code",
      "execution_count": null,
      "id": "d5de5cdf",
      "metadata": {
        "id": "d5de5cdf"
      },
      "outputs": [],
      "source": [
        "Audio('combined.wav')"
      ]
    },
    {
      "cell_type": "markdown",
      "source": [
        "In this script, we first inputed the two .wav audio files which needed to be masked. Using, the overlay function of the AudioSegment module of pydub library, we created an .wav audio file called combined.wav"
      ],
      "metadata": {
        "id": "I8-PJHWi-uce"
      },
      "id": "I8-PJHWi-uce"
    }
  ],
  "metadata": {
    "kernelspec": {
      "display_name": "Python 3 (ipykernel)",
      "language": "python",
      "name": "python3"
    },
    "language_info": {
      "codemirror_mode": {
        "name": "ipython",
        "version": 3
      },
      "file_extension": ".py",
      "mimetype": "text/x-python",
      "name": "python",
      "nbconvert_exporter": "python",
      "pygments_lexer": "ipython3",
      "version": "3.9.7"
    },
    "colab": {
      "name": "masker.ipynb",
      "provenance": []
    }
  },
  "nbformat": 4,
  "nbformat_minor": 5
}